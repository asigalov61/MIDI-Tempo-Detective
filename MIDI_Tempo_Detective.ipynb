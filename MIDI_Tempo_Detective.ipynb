{
  "cells": [
    {
      "cell_type": "markdown",
      "metadata": {
        "gradient": {
          "editing": false,
          "id": "ac5a4cf0-d9d2-47b5-9633-b53f8d99a4d2",
          "kernelId": ""
        },
        "id": "SiTIpPjArIyr"
      },
      "source": [
        "# MIDI Tempo Detective (ver. 1.0)\n",
        "\n",
        "***\n",
        "\n",
        "Powered by tegridy-tools: https://github.com/asigalov61/tegridy-tools\n",
        "\n",
        "***\n",
        "\n",
        "Credit for GPT2-RGA code used in this colab goes out @ Sashmark97 https://github.com/Sashmark97/midigen and @ Damon Gwinn https://github.com/gwinndr/MusicTransformer-Pytorch\n",
        "\n",
        "***\n",
        "\n",
        "WARNING: This complete implementation is a functioning model of the Artificial Intelligence. Please excercise great humility, care, and respect. https://www.nscai.gov/\n",
        "\n",
        "***\n",
        "\n",
        "#### Project Los Angeles\n",
        "\n",
        "#### Tegridy Code 2022\n",
        "\n",
        "***"
      ]
    },
    {
      "cell_type": "markdown",
      "metadata": {
        "gradient": {
          "editing": false,
          "id": "fa0a611c-1803-42ae-bdf6-a49b5a4e781b",
          "kernelId": ""
        },
        "id": "gOd93yV0sGd2"
      },
      "source": [
        "# (Setup Environment)"
      ]
    },
    {
      "cell_type": "code",
      "execution_count": null,
      "metadata": {
        "cellView": "form",
        "gradient": {
          "editing": false,
          "id": "39411b40-9e39-416e-8fe4-d40f733e7956",
          "kernelId": ""
        },
        "id": "lw-4aqV3sKQG"
      },
      "outputs": [],
      "source": [
        "#@title nvidia-smi gpu check\n",
        "!nvidia-smi"
      ]
    },
    {
      "cell_type": "code",
      "execution_count": null,
      "metadata": {
        "gradient": {
          "editing": false,
          "id": "a1a45a91-d909-4fd4-b67a-5e16b971d179",
          "kernelId": ""
        },
        "id": "fX12Yquyuihc",
        "cellView": "form"
      },
      "outputs": [],
      "source": [
        "#@title Install all dependencies (run only once per session)\n",
        "\n",
        "!git clone https://github.com/asigalov61/MIDI-Tempo-Detective\n",
        "!pip install torch\n",
        "!pip install tqdm\n",
        "!pip install matplotlib\n",
        "\n",
        "!pip install torch-summary\n",
        "!pip install sklearn"
      ]
    },
    {
      "cell_type": "code",
      "execution_count": null,
      "metadata": {
        "cellView": "form",
        "gradient": {
          "editing": false,
          "id": "b8207b76-9514-4c07-95db-95a4742e52c5",
          "kernelId": ""
        },
        "id": "z7n9vnKmug1J"
      },
      "outputs": [],
      "source": [
        "#@title Import all needed modules\n",
        "\n",
        "print('Loading needed modules. Please wait...')\n",
        "import os\n",
        "from tqdm import tqdm\n",
        "import random\n",
        "import secrets\n",
        "from collections import OrderedDict\n",
        "\n",
        "print('Loading TMIDIX and GPT2RGAX modules...')\n",
        "os.chdir('/content/MIDI-Tempo-Detective')\n",
        "import TMIDIX\n",
        "from GPT2RGAX import *\n",
        "\n",
        "import matplotlib.pyplot as plt\n",
        "\n",
        "from torchsummary import summary\n",
        "from sklearn import metrics\n",
        "\n",
        "os.chdir('/content/')"
      ]
    },
    {
      "cell_type": "markdown",
      "source": [
        "# (PREP THE MODEL)"
      ],
      "metadata": {
        "id": "EtmDRNUvC01L"
      }
    },
    {
      "cell_type": "code",
      "source": [
        "#@title Unzip Pre-Trained MIDI Tempo Detective Model\n",
        "%cd /content/MIDI-Tempo-Detective/Model\n",
        "\n",
        "print('=' * 70)\n",
        "print('Unzipping pre-trained MIDI Tempo Detective model...Please wait...')\n",
        "\n",
        "!cat MIDI-Tempo-Detective-Trained-Model.zip* > MIDI-Tempo-Detective-Trained-Model.zip\n",
        "print('=' * 70)\n",
        "\n",
        "!unzip -j MIDI-Tempo-Detective-Trained-Model.zip\n",
        "print('=' * 70)\n",
        "\n",
        "print('Done! Enjoy! :)')\n",
        "print('=' * 70)\n",
        "%cd /content/"
      ],
      "metadata": {
        "cellView": "form",
        "id": "0oZkCS4VCIBM"
      },
      "execution_count": null,
      "outputs": []
    },
    {
      "cell_type": "code",
      "source": [
        "#@title LOAD/RELOAD MIDI Tempo Detective Model\n",
        "print('Loading MIDI Tempo Detective model...')\n",
        "config = GPTConfig(260, \n",
        "                  256,\n",
        "                  dim_feedforward=256,\n",
        "                  n_layer=32, \n",
        "                  n_head=16, \n",
        "                  n_embd=256,\n",
        "                  enable_rpr=True,\n",
        "                  er_len=256)\n",
        "\n",
        "device = torch.device(\"cuda\" if torch.cuda.is_available() else \"cpu\")\n",
        "\n",
        "model = GPT(config)\n",
        "\n",
        "state_dict = torch.load('/content/MIDI-Tempo-Detective/Model/MIDI-Tempo-Detective-Trained-Model_16000_steps_0.1938_loss.pth', map_location=device)\n",
        "\n",
        "new_state_dict = OrderedDict()\n",
        "for k, v in state_dict.items():\n",
        "    name = k[7:] #remove 'module'\n",
        "    new_state_dict[name] = v\n",
        "\n",
        "model.load_state_dict(new_state_dict)\n",
        "\n",
        "model.to(device)\n",
        "\n",
        "model.eval()\n",
        "\n",
        "print('Done!')\n",
        "\n",
        "summary(model)\n",
        "\n",
        "cos_sim = metrics.pairwise.cosine_similarity(\n",
        "    model.tok_emb.weight.detach().cpu().numpy()\n",
        ")\n",
        "plt.figure(figsize=(8, 8))\n",
        "plt.imshow(cos_sim, cmap=\"inferno\", interpolation=\"none\")\n",
        "im_ratio = cos_sim.shape[0] / cos_sim.shape[1]\n",
        "plt.colorbar(fraction=0.046 * im_ratio, pad=0.04)\n",
        "plt.xlabel(\"Position\")\n",
        "plt.ylabel(\"Position\")\n",
        "plt.tight_layout()\n",
        "plt.plot()\n",
        "plt.savefig(\"/content/MIDI-Tempo-Detective-Positional-Embeddings-Plot.png\", bbox_inches=\"tight\")"
      ],
      "metadata": {
        "id": "DyVNr6etxdoR",
        "cellView": "form"
      },
      "execution_count": null,
      "outputs": []
    },
    {
      "cell_type": "markdown",
      "source": [
        "# (LOAD SOURCE MIDI)"
      ],
      "metadata": {
        "id": "6xEWGmtIEZL0"
      }
    },
    {
      "cell_type": "code",
      "source": [
        "#@title Load source MIDI file\n",
        "full_path_to_MIDI_file = \"/content/MIDI-Tempo-Detective/MIDI-Tempo-Detective-Sample-MIDI.mid\" #@param {type:\"string\"}\n",
        "\n",
        "score = TMIDIX.midi2score(open(full_path_to_MIDI_file, 'rb').read())\n",
        "\n",
        "events_matrix = []\n",
        "\n",
        "itrack = 1\n",
        "\n",
        "while itrack < len(score):\n",
        "    for event in score[itrack]:         \n",
        "        if event[0] == 'note' or event[0] == 'set_tempo':\n",
        "            events_matrix.append(event)\n",
        "    itrack += 1\n",
        "\n",
        "events_matrix.sort(key=lambda x: x[1])\n",
        "\n",
        "tempos = []\n",
        "melody_chords_f = []\n",
        "\n",
        "for e in events_matrix:\n",
        "  if e[0] != 'set_tempo':\n",
        "    tempos.append(e[1])\n",
        "  else:\n",
        "      \n",
        "    tempos = []\n",
        "    tempos.append(e)\n",
        "\n",
        "melody_chords_f.append([score[0], tempos[0][1:], tempos[1:]])\n",
        "\n",
        "D = melody_chords_f[0]\n",
        "\n",
        "INTS = []\n",
        "INTS.append(259) # SOS/EOS\n",
        "\n",
        "ticks1, ticks2, ticks3 = min(256*256*255, D[0]).to_bytes(3, 'big')\n",
        "INTS.extend([ticks1, ticks2, ticks3])\n",
        "\n",
        "INTS.append(257) # TICKS PAD\n",
        "\n",
        "pe = D[2][0]\n",
        "for d in D[2][1:120]:\n",
        "  dtime = min(256*255, d - pe)\n",
        "  dt1, dt2 = dtime.to_bytes(2, 'big')\n",
        "  INTS.extend([dt1, dt2])\n",
        "\n",
        "  pe = d\n",
        "\n",
        "INTS.extend([258]) # TIMES PAD\n",
        "\n",
        "tempo1, tempo2, tempo3 = min(256*256*255, D[1][1]).to_bytes(3, 'big')\n",
        "\n",
        "print('Source MIDI ticks:', score[0])\n",
        "print('Source MIDI tempo', min(256*256*255, D[1][1]))\n",
        "print('Source MIDI tempo (bytes)', tempo1, tempo2, tempo3)"
      ],
      "metadata": {
        "id": "jwvQj9VuyczP",
        "cellView": "form"
      },
      "execution_count": null,
      "outputs": []
    },
    {
      "cell_type": "markdown",
      "source": [
        "# (DETECT)"
      ],
      "metadata": {
        "id": "KqFhPOa_C3Nv"
      }
    },
    {
      "cell_type": "code",
      "source": [
        "#@title Detect Tempo\n",
        "\n",
        "print('=' * 70)\n",
        "print('MIDI Tempo Detective Model Generator')\n",
        "print('=' * 70)\n",
        "print('Detecting tempo...Please wait...')\n",
        "print('=' * 70)\n",
        "rand_seq = model.generate_batches(torch.Tensor(INTS), \n",
        "                                          target_seq_length=256,\n",
        "                                          temperature=0.8,\n",
        "                                          num_batches=24,\n",
        "                                          verbose=True)\n",
        "out = rand_seq.cpu().tolist()\n",
        "d2 = []\n",
        "\n",
        "# print('=' * 70)\n",
        "\n",
        "for i in range(len(out)):\n",
        "  out1 = out[i]\n",
        "\n",
        "  d1 = 0\n",
        "\n",
        "  d1 = d1.from_bytes(out1[out1.index(258)+1:out1.index(258)+4], 'big')\n",
        "\n",
        "  d2.append(d1)\n",
        "  \n",
        "  # print(d1)\n",
        "\n",
        "print('=' * 70)\n",
        "print('Average detected tempo:', int(sum(d2) / len(d2)))\n",
        "print('=' * 70)\n",
        "print('Best detected tempo', max(set(d2), key = d2.count))\n",
        "print('=' * 70)"
      ],
      "metadata": {
        "id": "LhSydU-FyV1j",
        "cellView": "form"
      },
      "execution_count": null,
      "outputs": []
    },
    {
      "cell_type": "markdown",
      "metadata": {
        "id": "YzCMd94Tu_gz"
      },
      "source": [
        "# Congrats! You did it! :)"
      ]
    }
  ],
  "metadata": {
    "colab": {
      "collapsed_sections": [],
      "private_outputs": true,
      "provenance": [],
      "machine_shape": "hm"
    },
    "kernelspec": {
      "display_name": "Python 3 (ipykernel)",
      "language": "python",
      "name": "python3"
    },
    "language_info": {
      "codemirror_mode": {
        "name": "ipython",
        "version": 3
      },
      "file_extension": ".py",
      "mimetype": "text/x-python",
      "name": "python",
      "nbconvert_exporter": "python",
      "pygments_lexer": "ipython3",
      "version": "3.9.7"
    },
    "gpuClass": "standard",
    "accelerator": "GPU"
  },
  "nbformat": 4,
  "nbformat_minor": 0
}